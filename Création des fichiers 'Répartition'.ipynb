{
 "cells": [
  {
   "cell_type": "markdown",
   "metadata": {},
   "source": [
    "# Création du fichier pour la constitution des classes\n",
    "<!--\n",
    "from IPython.core.display import HTML\n",
    "HTML(\"<style>.CodeMirror pre{font-family:Source Code Pro;font-size: 11pt;}\" + \n",
    "     \"div.output pre{font-family:Source Code Pro;font-size: 11pt;}</style>\")\n",
    "\n",
    "### Cache le traceback ###\n",
    "import sys\n",
    "ipython = get_ipython()\n",
    "def hide_traceback(exc_tuple=None,\n",
    "                   filename=None,\n",
    "                   tb_offset=None,\n",
    "                   exception_only=False,\n",
    "                   running_compiled_code=False):\n",
    "    etype, value, tb = sys.exc_info()\n",
    "    return ipython._showtraceback(etype, value,\n",
    "                                  ipython.InteractiveTB.get_exception_only(\n",
    "                                      etype, value))\n",
    "ipython.showtraceback = hide_traceback\n",
    "-->"
   ]
  },
  {
   "cell_type": "code",
   "execution_count": null,
   "metadata": {},
   "outputs": [],
   "source": [
    "%%writefile config.py\n",
    "DEBUG = True\n",
    "\n",
    "from datetime import datetime\n",
    "from collections import OrderedDict\n",
    "\n",
    "##### PARAMETRAGE UTILISATEUR\n",
    "ANNEE = datetime.today().year % 100  # automatique\n",
    "# ANNEE = 18                         # manuel : décommenter\n",
    "ETABLISSEMENT = 'Collège Marie Curie'\n",
    "VILLE = 'Troyes'\n",
    "CLASSES = '3e'\n",
    "\n",
    "NB_DIVS = 8\n",
    "### Exemples de noms de divisions\n",
    "# NOM_DIVS = ['♈', '♉', '♊', '♋', '♌', '♍', '♎', '♏', '♐', '♑', '♒', '♓'][:NB_DIVS]\n",
    "# NOM_DIVS = ['⊕', '⊖', '⊗', '⊘', '⊙', '⊚', '⊛', '⊜'][:NB_DIVS]\n",
    "# NOM_DIVS = ['ⅰ', 'ⅱ', 'ⅲ', 'ⅳ', 'ⅴ', 'ⅵ', 'ⅶ', 'ⅷ', 'ⅸ', 'ⅹ', 'ⅺ', 'ⅻ'][:NB_DIVS]\n",
    "# NOM_DIVS = ['A', 'B', 'C', 'D', 'E', 'F', 'G', 'H', 'I'][:NB_DIVS]\n",
    "NOM_DIVS = ['α', 'β', 'γ', 'δ', 'ε', 'ζ', 'η', 'θ', 'ι', 'κ', 'λ', 'μ', 'ν', 'ξ', 'ο', 'π', 'ρ', 'σ', 'τ', 'υ', 'φ', 'χ', 'ψ', 'ω'][:NB_DIVS]\n",
    "# NOM_DIVS = [i + 1 for i in range(NB_DIVS)]  # Pour 1, 2,...\n",
    "# NOM_DIVS = [2, 3, 4, 5, 6, 7, 8, 9]\n",
    "\n",
    "assert (NB_DIVS == len(NOM_DIVS)\n",
    "        ), \"Il faut autant de noms que de divisions prévues\"\n",
    "\n",
    "NB_ELV = 25 * NB_DIVS + 20  # nb de lignes à prévoir dans la liste d'élèves\n",
    "if DEBUG: NB_ELV = 50\n",
    "LV2S = ['All2', 'Ita2', 'Esp2', 'Sans LV2']\n",
    "LV2S_VRAIES = LV2S[:-1]  # LV2 à afficher dans la liste\n",
    "\n",
    "OPTIONS = OrderedDict([\n",
    "    ('Sans opt', []),\n",
    "    ('Sport', ['Sport']),\n",
    "    ('Latin', ['Latin']),\n",
    "    ('Sp-lat', ['Sport', 'Latin']),\n",
    "    #    ('Tricot',['Tricot']),\n",
    "    #    ('Origami',['Origami']),\n",
    "    #    ('Tricorigami',['Tricot','Origami'])\n",
    "])\n",
    "OPTIONS_UNIQUES = [opt for opt in OPTIONS if len(OPTIONS[opt]) == 1]\n",
    "OPTIONS_CAT = {\n",
    "    'Sport': 'Section'\n",
    "}  # Créer une colonne supplém 'Section' pour le type de sport\n",
    "\n",
    "NIVEAUX = ['A', 'B', 'C', 'D', 'E']\n",
    "\n",
    "NOM_FICHIER = 'R' + str(ANNEE) + '-Repart-' + CLASSES\n",
    "NOM_FICHIER += '.xls' + ('m' if not DEBUG else 'x')\n",
    "# NOM_FICHIER = 'R18-Repart-3e.xlsm' # Attention de ne pas mettre '*.xlsx'\n",
    "\n",
    "##### DEFINITION DES COULEURS\n",
    "# Pour la couleur de fond des classes (clair, foncé)\n",
    "C_CLS = [\n",
    "    ('#66ff99', '#00cc33'),  # vert clair\n",
    "    ('#99ffff', '#00cccc'),  # cyan\n",
    "    ('#ff99ff', '#ff00ff'),  # magenta\n",
    "    ('#ffcc00', '#ff9900'),  # orange\n",
    "    ('#ffff66', '#ffcc00'),  # jaune clair\n",
    "    ('#00ccff', '#3399ff'),  # bleu cobalt\n",
    "    ('#ffcccc', '#cc9999'),  # rose\n",
    "    ('#99ff66', '#00cc00'),  # vert lime\n",
    "    ('#ccff00', '#99cc00'),  # jaune citron\n",
    "    ('#cccccc', '#999999'),  # gris (pour NA)\n",
    "]\n",
    "\n",
    "assert (len(C_CLS) > NB_DIVS), \"Trop de classes, pas assez de couleurs\"\n",
    "\n",
    "# Pour les étiquettes 'Etiquette': (txt, fond)\n",
    "C_CAT = {\n",
    "    'F': ('#990000', '#ff6666'),\n",
    "    'G': ('#0000cc', '#66ccff'),\n",
    "    '%F': ('#990099', '#ffccff'),\n",
    "    'opt1': ('#000099', '#00ffff'),\n",
    "    'opt2': ('#330066', '#cc99ff'),\n",
    "    'opt3': ('#660033', '#ff99cc'),\n",
    "    'LV2': ('#000099', '#99ccff'),\n",
    "    'sLV2': ('#000066', '#6699cc'),\n",
    "    'A': ('#009900', '#00ff00'),\n",
    "    'B': ('#669900', '#99ff33'),\n",
    "    'C': ('#999900', '#ffff00'),\n",
    "    'D': ('#993300', '#ff6600'),\n",
    "    'E': ('#990000', '#ff0000'),\n",
    "    'R': ('#333333', '#999999'),\n",
    "    'TOT': ('#3333cc', '#99cccc'),\n",
    "    'TOT2': ('#3333cc', '#669999'),\n",
    "    'CLS': ('#ffffff', '#000000'),\n",
    "    'Reste1': ('#990000', '#ffffcc'),\n",
    "    'Reste2': ('#990000', '#cccc99'),\n",
    "}\n",
    "\n",
    "for niv in NIVEAUX:\n",
    "    assert (niv in C_CAT), \"Pb définition des niveaux\"\n",
    "\n",
    "TX_YA = 'Placés'  # 'Il y a'\n",
    "TX_FAUT = 'Prévus'  # 'Il faut'"
   ]
  },
  {
   "cell_type": "code",
   "execution_count": null,
   "metadata": {
    "scrolled": true
   },
   "outputs": [],
   "source": [
    "%reset -f\n",
    "%run -i affiche.py"
   ]
  },
  {
   "cell_type": "code",
   "execution_count": null,
   "metadata": {},
   "outputs": [],
   "source": [
    "%reset -f\n",
    "%run -i création.py"
   ]
  },
  {
   "cell_type": "code",
   "execution_count": null,
   "metadata": {},
   "outputs": [],
   "source": []
  }
 ],
 "metadata": {
  "kernelspec": {
   "display_name": "Python [default]",
   "language": "python",
   "name": "python3"
  },
  "language_info": {
   "codemirror_mode": {
    "name": "ipython",
    "version": 3
   },
   "file_extension": ".py",
   "mimetype": "text/x-python",
   "name": "python",
   "nbconvert_exporter": "python",
   "pygments_lexer": "ipython3",
   "version": "3.6.5"
  },
  "toc": {
   "base_numbering": 1,
   "nav_menu": {},
   "number_sections": false,
   "sideBar": true,
   "skip_h1_title": false,
   "title_cell": "Table of Contents",
   "title_sidebar": "Contents",
   "toc_cell": false,
   "toc_position": {},
   "toc_section_display": true,
   "toc_window_display": false
  },
  "varInspector": {
   "cols": {
    "lenName": 16,
    "lenType": 16,
    "lenVar": 40
   },
   "kernels_config": {
    "python": {
     "delete_cmd_postfix": "",
     "delete_cmd_prefix": "del ",
     "library": "var_list.py",
     "varRefreshCmd": "print(var_dic_list())"
    },
    "r": {
     "delete_cmd_postfix": ") ",
     "delete_cmd_prefix": "rm(",
     "library": "var_list.r",
     "varRefreshCmd": "cat(var_dic_list()) "
    }
   },
   "types_to_exclude": [
    "module",
    "function",
    "builtin_function_or_method",
    "instance",
    "_Feature"
   ],
   "window_display": false
  }
 },
 "nbformat": 4,
 "nbformat_minor": 2
}
