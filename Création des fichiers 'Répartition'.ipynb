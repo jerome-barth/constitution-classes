{
 "cells": [
  {
   "cell_type": "markdown",
   "metadata": {},
   "source": [
    "# Constitution des classes\n",
    "<br>\n",
    "<div class=\"alert alert-block alert-danger\" style=\"inline-block;width:50%;margin-left:25%;\">\n",
    "Pour passer d'une cellule à la suivante en exécutant son code, il faut appuyer sur **`Maj`-`Entrée`**.</div>\n",
    "\n",
    "\n",
    "### Principe général\n",
    "Ce `notenook` permet de générer un fichier excel personnalisé qui permet d'accelérer et de vérifier la constitution des classes.\n",
    "Des élèves fictifs sont insérés lors de la création, afin de familiariser avec l'utilisation du fichier.\n",
    "\n",
    "Voici le cheminement préconisé\n",
    "1. Régler les paramètres et les vérifier\n",
    "1. Créer le fichier\n",
    "1. Dans Excel importer les élèves dans le 2e onglet\n",
    "1. Préparer la répartition dans les divisions en s'aidant de l'onglet \"Patates\"\n",
    "1. Dans le deuxième onglet, utiliser le filtre pour placer les élèves suivant leurs options\n",
    "\n",
    "## 1. Paramètres\n",
    "Dans la cellule suivante se trouvent tous les réglages possibles pour la création du fichier. Tout est modifiable à condition de respecter la structure des données, à l'exception des deux premières lignes et de **`'Sans LV2'`** qui doit toujours figurer **en dernière position** dans la liste **`LV2S`**.\n",
    "\n",
    "Ne pas modifier les deux premières lignes :\n",
    "```python\n",
    "%%writefile config.py\n",
    "from collections import OrderedDict\n",
    "```\n",
    "<div class=\"alert alert-block alert-info\">\n",
    "Pour que les modifications soient prises en compte, il est nécessaire d'exécuter le code contenu dans les cellules ci-dessous.<br>\n",
    "Pour cela, appuyer `Maj`+`Entrée` exécutera la cellule en cours et passera à la suivante.\n",
    "</div>\n",
    "<div class=\"alert alert-block alert-success\">\n",
    "Pour la première utilisation, il est préférable de laisser les paramètres par défaut et de continuer à tester avec le fichier créé.\n",
    "</div>"
   ]
  },
  {
   "cell_type": "code",
   "execution_count": null,
   "metadata": {},
   "outputs": [],
   "source": [
    "%%writefile config.py\n",
    "from collections import OrderedDict\n",
    "\n",
    "##### PARAMÉTRAGE UTILISATEUR\n",
    "### Laisser le # pour avoir l'année en cours\n",
    "# ANNEE = 18\n",
    "\n",
    "ETABLISSEMENT = 'Collège Marie Curie'\n",
    "VILLE = 'Troyes'\n",
    "\n",
    "CLASSES = '3e'\n",
    "\n",
    "NB_DIVS = 5\n",
    "### Exemples de noms de divisions\n",
    "# NOM_DIVS = ['A', 'B', 'C', 'D', 'E', 'F', 'G', 'H', 'I', 'J'][:NB_DIVS]\n",
    "# NOM_DIVS = ['α', 'β', 'γ', 'δ', 'ε', 'ζ', 'η', 'θ', 'ι', 'κ', 'λ', 'μ'][:NB_DIVS]\n",
    "# NOM_DIVS = [10 + i for i in range(NB_DIVS)]  # Pour 10, 11, ...\n",
    "NOM_DIVS = [i + 1 for i in range(NB_DIVS)]  # Pour 1, 2,...\n",
    "\n",
    "# Nombre d'élèves prévus (approximatif, des lignes peuvent être ajoutées ou retirées)\n",
    "NB_ELV = 24 * NB_DIVS + 10\n",
    "# NB_ELV = 130\n",
    "\n",
    "# LV2 envisagées : la dernière ('Sans LV2') est traitée de manière spécifique\n",
    "LV2S = ['All2', 'Ita2', 'Esp2', 'Sans LV2']\n",
    "\n",
    "# Options compatibles du type : ('Nom', ['opt1', 'opt2',...] )\n",
    "OPTIONS = OrderedDict([\n",
    "    ('Sans opt', []), ('Sport', ['Sport']),\n",
    "    ('Latin', ['Latin']),\n",
    "    ('Sp-lat', ['Sport', 'Latin']),\n",
    "#    ('Tricot', ['Tricot']),\n",
    "#    ('Origami', ['Origami']),\n",
    "#    ('Tricorilatin', ['Tricot', 'Origami', 'Latin']),\n",
    "])\n",
    "\n",
    "# Options pour lesquelles il faut 2 colonnes (typiquement Sport-Étude avec la Section)\n",
    "OPTIONS_CAT = {'Sport': 'Section'}\n",
    "\n",
    "# Pour classer les élèves (scolaire et comportement)\n",
    "NIVEAUX = ['A', 'B', 'C', 'D', 'E']\n",
    "\n",
    "### Laisser le # pour avoir le nom de fichier par défaut (du type 'R18-Répart-3e.xlsm')\n",
    "# NOM_FICHIER = 'R18-Répart-3e' # Attention de ne pas mettre d'extension'\n",
    "\n",
    "##### DÉFINITION DES COULEURS\n",
    "# Pour la couleur de fond pour les classes : (clair, foncé)\n",
    "C_CLS = [\n",
    "    ('#66ff99', '#00cc33'),  # vert clair\n",
    "    ('#99ffff', '#00cccc'),  # cyan\n",
    "    ('#ff99ff', '#ff00ff'),  # magenta\n",
    "    ('#ffcc00', '#ff9900'),  # orange\n",
    "    ('#ffff66', '#ffcc00'),  # jaune clair\n",
    "    ('#00ccff', '#3399ff'),  # bleu cobalt\n",
    "    ('#ffcccc', '#cc9999'),  # rose\n",
    "    ('#99ff66', '#00cc00'),  # vert lime\n",
    "    ('#ccff00', '#99cc00'),  # jaune citron\n",
    "    ('#cccccc', '#999999'),  # gris (pour NA)\n",
    "]\n",
    "\n",
    "# Pour les étiquettes : 'Etiquette': (txt, fond)\n",
    "C_CAT = {\n",
    "    'F':      ('#990000', '#ff6666'),  # filles\n",
    "    'G':      ('#0000cc', '#66ccff'),  # garçons\n",
    "    '%F':     ('#990099', '#ffccff'),  # pourcentage de filles\n",
    "    'opt1':   ('#000099', '#00ffff'),  # cycle de 3 couleurs\n",
    "    'opt2':   ('#330066', '#cc99ff'),  #     pour les différentes\n",
    "    'opt3':   ('#660033', '#ff99cc'),  #     options uniques\n",
    "    'LV2':    ('#000099', '#99ccff'),  # couleur pour les options de lv2\n",
    "    'sLV2':   ('#000066', '#6699cc'),  # couleur pour \"Sans LV2\"\n",
    "    'A':      ('#003300', '#00ff00'),  # couleurs pour les différents niveaux\n",
    "    'B':      ('#003300', '#99ff33'),  #      il faut adapter ceci à la liste\n",
    "    'C':      ('#333300', '#ffff00'),  #      des niveaux ci-dessus\n",
    "    'D':      ('#330000', '#ff6600'),  #\n",
    "    'E':      ('#330000', '#ff0000'),  #\n",
    "    'R':      ('#333333', '#999999'),  #\n",
    "    'TOT':    ('#3333cc', '#99cccc'),  # couleur claire pour les totaux\n",
    "    'TOT2':   ('#3333cc', '#669999'),  # couleur foncée pour les totaux\n",
    "    'CLS':    ('#ffffff', '#000000'),  # couleur d'entête pour la division\n",
    "    'Reste1': ('#990000', '#ffffcc'),  # couleur colonne 'Reste' (clair)\n",
    "    'Reste2': ('#990000', '#cccc99'),  # couleur colonne 'Reste' (foncé)\n",
    "    'ptR':    ('#ff0000', '#ffffff'),  # couleur pour comportement (avant-avant-dernier)\n",
    "    'moyR':   ('#660000', '#ff6600'),  # couleur pour comportement (avant-dernier)\n",
    "    'grR':    ('#660000', '#ff0000'),  # couleur pour comportement (dernier)\n",
    "    'ERR':    ('#ff0000', '#000000'),  # Disparité prévision/répartition\n",
    "    'ERRP':   ('#ffffff', '#ff0000'),  # Erreur de structure\n",
    "}"
   ]
  },
  {
   "cell_type": "markdown",
   "metadata": {},
   "source": [
    "### Vérification des paramètres\n",
    "Exécuter (par `Maj`-`Entrée`) les deux cellules ci-dessous afin de vérifier le paramétrage avant de continuer"
   ]
  },
  {
   "cell_type": "code",
   "execution_count": null,
   "metadata": {},
   "outputs": [],
   "source": [
    "%%javascript\n",
    "IPython.OutputArea.prototype._should_scroll=function(lines){return false;}"
   ]
  },
  {
   "cell_type": "code",
   "execution_count": null,
   "metadata": {
    "scrolled": true
   },
   "outputs": [],
   "source": [
    "%run -i affiche.py"
   ]
  },
  {
   "cell_type": "markdown",
   "metadata": {},
   "source": [
    "### Si les paramètres sont corrects : lancer la création dans la cellule suivante (avec `Maj`-`Entrée`)\n",
    "\n",
    "### Sinon, revenir à la cellule de paramétrage et ajuster !\n",
    "\n",
    "<div class=\"alert alert-block alert-info\">\n",
    "Il faut absolument relancer l'exécution de la cellule de paramétrage et celles qui suivent (par `Maj`+`Entrée` successifs) pour prendre en compte les changements.\n",
    "</div>\n",
    "<div class=\"alert alert-block alert-success\">\n",
    "Lien vers un site pour aider à la sélection des couleurs (au format hex #RRVVBB) : <a href='http://www.proftnj.com/RGB3.htm' target=\"_blank\">Convertisseur de couleurs</a>\n",
    "</div>\n",
    "\n",
    "\n",
    "## 2. Création du fichier"
   ]
  },
  {
   "cell_type": "code",
   "execution_count": null,
   "metadata": {},
   "outputs": [],
   "source": [
    "%run -i création.py"
   ]
  },
  {
   "cell_type": "markdown",
   "metadata": {},
   "source": [
    "## 3. Suite\n",
    "### Documentation en cours..."
   ]
  },
  {
   "cell_type": "markdown",
   "metadata": {},
   "source": [
    " "
   ]
  },
  {
   "cell_type": "markdown",
   "metadata": {},
   "source": [
    " "
   ]
  },
  {
   "cell_type": "markdown",
   "metadata": {},
   "source": [
    " "
   ]
  }
 ],
 "metadata": {
  "kernelspec": {
   "display_name": "Python [default]",
   "language": "python",
   "name": "python3"
  },
  "language_info": {
   "codemirror_mode": {
    "name": "ipython",
    "version": 3
   },
   "file_extension": ".py",
   "mimetype": "text/x-python",
   "name": "python",
   "nbconvert_exporter": "python",
   "pygments_lexer": "ipython3",
   "version": "3.6.5"
  },
  "toc": {
   "base_numbering": 1,
   "nav_menu": {},
   "number_sections": false,
   "sideBar": true,
   "skip_h1_title": false,
   "title_cell": "Table of Contents",
   "title_sidebar": "Contents",
   "toc_cell": false,
   "toc_position": {},
   "toc_section_display": true,
   "toc_window_display": false
  },
  "varInspector": {
   "cols": {
    "lenName": 16,
    "lenType": 16,
    "lenVar": 40
   },
   "kernels_config": {
    "python": {
     "delete_cmd_postfix": "",
     "delete_cmd_prefix": "del ",
     "library": "var_list.py",
     "varRefreshCmd": "print(var_dic_list())"
    },
    "r": {
     "delete_cmd_postfix": ") ",
     "delete_cmd_prefix": "rm(",
     "library": "var_list.r",
     "varRefreshCmd": "cat(var_dic_list()) "
    }
   },
   "types_to_exclude": [
    "module",
    "function",
    "builtin_function_or_method",
    "instance",
    "_Feature"
   ],
   "window_display": false
  }
 },
 "nbformat": 4,
 "nbformat_minor": 2
}
