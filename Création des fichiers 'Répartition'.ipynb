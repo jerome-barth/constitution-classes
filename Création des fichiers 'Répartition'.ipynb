{
 "cells": [
  {
   "cell_type": "markdown",
   "metadata": {},
   "source": [
    "# Création du fichier pour la constitution des classes\n",
    "<!--\n",
    "from IPython.core.display import HTML\n",
    "HTML(\"<style>.CodeMirror pre{font-family:Source Code Pro;font-size: 11pt;}\" + \n",
    "     \"div.output pre{font-family:Source Code Pro;font-size: 11pt;}</style>\")\n",
    "\n",
    "### Cache le traceback ###\n",
    "import sys\n",
    "ipython = get_ipython()\n",
    "def hide_traceback(exc_tuple=None,\n",
    "                   filename=None,\n",
    "                   tb_offset=None,\n",
    "                   exception_only=False,\n",
    "                   running_compiled_code=False):\n",
    "    etype, value, tb = sys.exc_info()\n",
    "    return ipython._showtraceback(etype, value,\n",
    "                                  ipython.InteractiveTB.get_exception_only(\n",
    "                                      etype, value))\n",
    "ipython.showtraceback = hide_traceback\n",
    "-->"
   ]
  },
  {
   "cell_type": "code",
   "execution_count": null,
   "metadata": {},
   "outputs": [],
   "source": [
    "%%writefile config.py\n",
    "from collections import OrderedDict\n",
    "\n",
    "##### PARAMÉTRAGE UTILISATEUR\n",
    "### Laisser le # pour avoir l'année en cours\n",
    "# ANNEE = 18\n",
    "\n",
    "ETABLISSEMENT = 'Collège Marie Curie'\n",
    "VILLE = 'Troyes'\n",
    "\n",
    "CLASSES = '3e'\n",
    "\n",
    "NB_DIVS = 5\n",
    "### Exemples de noms de divisions\n",
    "# NOM_DIVS = ['A', 'B', 'C', 'D', 'E', 'F', 'G', 'H', 'I', 'J'][:NB_DIVS]\n",
    "# NOM_DIVS = ['α', 'β', 'γ', 'δ', 'ε', 'ζ', 'η', 'θ', 'ι', 'κ', 'λ', 'μ'][:NB_DIVS]\n",
    "# NOM_DIVS = ['ν', 'ξ', 'ο', 'π', 'ρ', 'σ', 'τ', 'υ', 'φ', 'χ', 'ψ', 'ω'][:NB_DIVS]\n",
    "# NOM_DIVS = [i + 1 for i in range(NB_DIVS)]  # Pour 1, 2,...\n",
    "NOM_DIVS = [10 + i for i in range(NB_DIVS)]  # Pour 10, 11, ...\n",
    "\n",
    "\n",
    "# Nombre d'élèves prévus (approximatif, des lignes peuvent être ajoutées ou retirées)\n",
    "NB_ELV = 24 * NB_DIVS + 10\n",
    "\n",
    "# LV2 envisagées : la dernière ('Sans LV2') est traitée de manière spécifique\n",
    "LV2S = ['All2', 'Ita2', 'Esp2', 'Sans LV2']\n",
    "\n",
    "# Options compatibles du type : ('Nom', ['opt1', 'opt2',...] )\n",
    "OPTIONS = OrderedDict([\n",
    "    ('Sans opt', []),\n",
    "    ('Sport', ['Sport']),\n",
    "    ('Latin', ['Latin']),\n",
    "    ('Sp-lat', ['Sport', 'Latin']),\n",
    "    #('Tricot',['Tricot']),\n",
    "    #('Origami',['Origami']),\n",
    "    #('Tricorigami',['Tricot','Origami'])\n",
    "])\n",
    "\n",
    "# Options pour lesquelles il faut 2 colonnes (typiquement Sport-Étude avec la Section)\n",
    "OPTIONS_CAT = {'Sport': 'Section'}\n",
    "\n",
    "# Pour classer les élèves (scolaire et comportement)\n",
    "NIVEAUX = ['A', 'B', 'C', 'D', 'E']\n",
    "\n",
    "\n",
    "### Laisser le # pour avoir le nom de fichier par défaut (du type 'R18-Répart-3e.xlsm')\n",
    "# NOM_FICHIER = 'R18-Répart-3e' # Attention de ne pas mettre d'extension'\n",
    "\n",
    "##### DÉFINITION DES COULEURS\n",
    "# Pour la couleur de fond pour les classes : (clair, foncé)\n",
    "C_CLS = [\n",
    "    ('#66ff99', '#00cc33'),  # vert clair\n",
    "    ('#99ffff', '#00cccc'),  # cyan\n",
    "    ('#ff99ff', '#ff00ff'),  # magenta\n",
    "    ('#ffcc00', '#ff9900'),  # orange\n",
    "    ('#ffff66', '#ffcc00'),  # jaune clair\n",
    "    ('#00ccff', '#3399ff'),  # bleu cobalt\n",
    "    ('#ffcccc', '#cc9999'),  # rose\n",
    "    ('#99ff66', '#00cc00'),  # vert lime\n",
    "    ('#ccff00', '#99cc00'),  # jaune citron\n",
    "    ('#cccccc', '#999999'),  # gris (pour NA)\n",
    "]\n",
    "\n",
    "# Pour les étiquettes : 'Etiquette': (txt, fond)\n",
    "C_CAT = {\n",
    "    'F': ('#990000', '#ff6666'),        # filles\n",
    "    'G': ('#0000cc', '#66ccff'),        # garçons\n",
    "    '%F': ('#990099', '#ffccff'),       # pourcentage de filles\n",
    "    'opt1': ('#000099', '#00ffff'),     # cycle de 3 couleurs\n",
    "    'opt2': ('#330066', '#cc99ff'),     #     pour les différentes\n",
    "    'opt3': ('#660033', '#ff99cc'),     #     options uniques\n",
    "    'LV2': ('#000099', '#99ccff'),      # couleur pour les options de lv2\n",
    "    'sLV2': ('#000066', '#6699cc'),     # couleur pour \"Sans LV2\"\n",
    "    'A': ('#003300', '#00ff00'),        # couleurs pour les différents niveaux\n",
    "    'B': ('#003300', '#99ff33'),        #      il faut adapter ceci à la liste\n",
    "    'C': ('#333300', '#ffff00'),        #      des niveaux ci-dessus\n",
    "    'D': ('#330000', '#ff6600'),        #\n",
    "    'E': ('#330000', '#ff0000'),        #\n",
    "    'R': ('#333333', '#999999'),        #\n",
    "    'TOT': ('#3333cc', '#99cccc'),      # couleur claire pour les totaux\n",
    "    'TOT2': ('#3333cc', '#669999'),     # couleur foncée pour les totaux\n",
    "    'CLS': ('#ffffff', '#000000'),      # couleur d'entête pour la division\n",
    "    'Reste1': ('#990000', '#ffffcc'),   # couleur colonne 'Reste' (clair)\n",
    "    'Reste2': ('#990000', '#cccc99'),   # couleur colonne 'Reste' (foncé)\n",
    "    'ptR': ('#ff0000', '#ffffff'),      # couleur pour comportement (avant-avant-dernier)\n",
    "    'moyR': ('#660000', '#ff6600'),     # couleur pour comportement (avant-dernier)\n",
    "    'grR': ('#660000', '#ff0000'),      # couleur pour comportement (dernier)\n",
    "    'ERR': ('#ff0000', '#000000'),      # Disparité prévision/répartition\n",
    "    'ERRP': ('#ffffff', '#ff0000'),     # Erreur de structure\n",
    "}"
   ]
  },
  {
   "cell_type": "code",
   "execution_count": null,
   "metadata": {
    "scrolled": true
   },
   "outputs": [],
   "source": [
    "%run -i affiche.py"
   ]
  },
  {
   "cell_type": "code",
   "execution_count": null,
   "metadata": {},
   "outputs": [],
   "source": [
    "%run -i création.py"
   ]
  }
 ],
 "metadata": {
  "kernelspec": {
   "display_name": "Python [default]",
   "language": "python",
   "name": "python3"
  },
  "language_info": {
   "codemirror_mode": {
    "name": "ipython",
    "version": 3
   },
   "file_extension": ".py",
   "mimetype": "text/x-python",
   "name": "python",
   "nbconvert_exporter": "python",
   "pygments_lexer": "ipython3",
   "version": "3.6.5"
  },
  "toc": {
   "base_numbering": 1,
   "nav_menu": {},
   "number_sections": false,
   "sideBar": true,
   "skip_h1_title": false,
   "title_cell": "Table of Contents",
   "title_sidebar": "Contents",
   "toc_cell": false,
   "toc_position": {},
   "toc_section_display": true,
   "toc_window_display": false
  },
  "varInspector": {
   "cols": {
    "lenName": 16,
    "lenType": 16,
    "lenVar": 40
   },
   "kernels_config": {
    "python": {
     "delete_cmd_postfix": "",
     "delete_cmd_prefix": "del ",
     "library": "var_list.py",
     "varRefreshCmd": "print(var_dic_list())"
    },
    "r": {
     "delete_cmd_postfix": ") ",
     "delete_cmd_prefix": "rm(",
     "library": "var_list.r",
     "varRefreshCmd": "cat(var_dic_list()) "
    }
   },
   "types_to_exclude": [
    "module",
    "function",
    "builtin_function_or_method",
    "instance",
    "_Feature"
   ],
   "window_display": false
  }
 },
 "nbformat": 4,
 "nbformat_minor": 2
}
