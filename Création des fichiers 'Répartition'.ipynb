{
 "cells": [
  {
   "cell_type": "code",
   "execution_count": 1,
   "metadata": {},
   "outputs": [],
   "source": [
    "from IPython.core.display import HTML\n",
    "HTML(\"<style>.CodeMirror pre{font-family:Source Code Pro;font-size: 11pt;}\" + \n",
    "     \"div.output pre{font-family:Source Code Pro;font-size: 11pt;}</style>\")\n",
    "\n",
    "### Cache le traceback ###\n",
    "import sys\n",
    "ipython = get_ipython()\n",
    "def hide_traceback(exc_tuple=None,\n",
    "                   filename=None,\n",
    "                   tb_offset=None,\n",
    "                   exception_only=False,\n",
    "                   running_compiled_code=False):\n",
    "    etype, value, tb = sys.exc_info()\n",
    "    return ipython._showtraceback(etype, value,\n",
    "                                  ipython.InteractiveTB.get_exception_only(\n",
    "                                      etype, value))\n",
    "ipython.showtraceback = hide_traceback"
   ]
  },
  {
   "cell_type": "code",
   "execution_count": 2,
   "metadata": {},
   "outputs": [
    {
     "name": "stdout",
     "output_type": "stream",
     "text": [
      "Overwriting config.py\n"
     ]
    }
   ],
   "source": [
    "%%writefile config.py\n",
    "\n",
    "DEBUG = True\n",
    "\n",
    "from datetime import datetime\n",
    "from collections import OrderedDict\n",
    "from IPython.display import HTML, display\n",
    "\n",
    "##### PARAMETRAGE UTILISATEUR\n",
    "ANNEE = datetime.today().year % 100  # automatique\n",
    "# ANNEE = 18                         # manuel : décommenter\n",
    "ETABLISSEMENT = 'Collège Marie Curie'\n",
    "VILLE = 'Troyes'\n",
    "CLASSES = '3e'\n",
    "\n",
    "NB_DIVS = 4\n",
    "NOM_DIVS = [2, 3, 4, 5]  # [i+1 for i in range(NB_DIVS)] # Pour 1, 2,...\n",
    "\n",
    "assert (NB_DIVS == len(NOM_DIVS)\n",
    "        ), \"Il faut autant de noms que de divisions prévues\"\n",
    "\n",
    "NB_ELV = 25 * NB_DIVS + 20  # nb de lignes à prévoir dans la liste d'élèves\n",
    "\n",
    "LV2S = ['All2', 'Ita2', 'Esp2', 'Sans LV2']\n",
    "OPTIONS = OrderedDict([\n",
    "    ('Sans opt', []),\n",
    "    ('Sport', ['Sport']),\n",
    "    ('Latin', ['Latin']),\n",
    "    ('Sp-lat', ['Sport', 'Latin']),\n",
    "])\n",
    "OPTIONS_UNIQUES = [opt for opt in OPTIONS if len(OPTIONS[opt]) == 1]\n",
    "\n",
    "NIVEAUX = ['A', 'B', 'C', 'D', 'E']\n",
    "\n",
    "NOM_FICHIER = 'R' + str(ANNEE) + '-Repart-' + CLASSES\n",
    "NOM_FICHIER += '.xls' + ('m' if not DEBUG else 'x')\n",
    "# NOM_FICHIER = 'R18-Repart-3e.xlsm' # Attention de ne pas mettre '*.xlsx'\n",
    "\n",
    "##### DEFINITION DES COULEURS\n",
    "# Pour la couleur de fond des classes (clair, foncé)\n",
    "C_CLS = [\n",
    "    ('#66ff99', '#00cc33'),  # vert clair\n",
    "    ('#99ffff', '#00cccc'),  # cyan\n",
    "    ('#ff99ff', '#ff00ff'),  # magenta\n",
    "    ('#ffcc00', '#ff9900'),  # orange\n",
    "    ('#ffff66', '#ffcc00'),  # jaune clair\n",
    "    ('#00ccff', '#3399ff'),  # bleu cobalt\n",
    "    ('#ffcccc', '#cc9999'),  # rose\n",
    "    ('#99ff66', '#00cc00'),  # vert lime\n",
    "    ('#ccff00', '#99cc00'),  # jaune citron\n",
    "    ('#cccccc', '#999999'),  # gris (pour NA)\n",
    "]\n",
    "\n",
    "assert (len(C_CLS) > NB_DIVS), \"Trop de classes, pas assez de couleurs\"\n",
    "\n",
    "# Pour les étiquettes 'Etiquette': (txt, fond)\n",
    "C_CAT = {\n",
    "    'F': ('#990000', '#ff6666'),\n",
    "    'G': ('#0000cc', '#66ccff'),\n",
    "    '%F': ('#990099', '#ffccff'),\n",
    "    'opt1': ('#000099', '#00ffff'),\n",
    "    'opt2': ('#330066', '#cc99ff'),\n",
    "    'opt3': ('#660033', '#ff99cc'),\n",
    "    'LV2': ('#000099', '#99ccff'),\n",
    "    'A': ('#009900', '#00ff00'),\n",
    "    'B': ('#669900', '#99ff33'),\n",
    "    'C': ('#999900', '#ffff00'),\n",
    "    'D': ('#993300', '#ff6600'),\n",
    "    'E': ('#990000', '#ff0000'),\n",
    "    'R': ('#333333', '#999999'),\n",
    "    'TOT': ('#990000', '#cccccc'),\n",
    "    'TOT2': ('#990000', '#999999'),\n",
    "    'CLS': ('#ffffff', '#000000'),\n",
    "    'Reste1': ('#ff0000', '#ffffcc'),\n",
    "    'Reste2': ('#ff0000', '#cccc99'),\n",
    "}\n",
    "\n",
    "for niv in NIVEAUX:\n",
    "    assert (niv in C_CAT), \"Pb définition des niveaux\"\n",
    "\n",
    "TX_YA = 'Placés'  # 'Il y a'\n",
    "TX_FAUT = 'Prévus'  # 'Il faut'\n",
    "\n",
    "\n",
    "# Affichage des couleurs dans le notebook\n",
    "def jupyter():\n",
    "    try:\n",
    "        shell = get_ipython().__class__.__name__\n",
    "        return shell == 'ZMQInteractiveShell'\n",
    "    except NameError:\n",
    "        return False\n",
    "\n",
    "\n",
    "if jupyter():\n",
    "    html = '<div style=\"overflow: auto;\">'\n",
    "    templ = '<div style=\"padding: 5pt; float: left; color: black; background-color: {};\">' + \\\n",
    "            '<strong>Couleur classe {}</strong></div>'\n",
    "    for i, (coul1, coul2) in enumerate(C_CLS):\n",
    "        html += templ.format(coul1, i + 1 if i + 1 != len(C_CLS) else 'NA')\n",
    "        html += templ.format(coul2, i + 1 if i + 1 != len(C_CLS) else 'NA')\n",
    "        if not (i + 1) % 3: html += '</div><br><div style=\"overflow: auto;\">'\n",
    "    html += '</div>'\n",
    "    html += '<br><div style=\"overflow: auto;\">'\n",
    "    templ = '<div style=\"padding: 5pt; float: left; color: {}; background-color: {};\">' + \\\n",
    "            '<strong>{}</strong></div>'\n",
    "    for cat in C_CAT:\n",
    "        coultxt, coulfnd = C_CAT[cat]\n",
    "        html += templ.format(coultxt, coulfnd, str(cat))\n",
    "    html += '</div>'\n",
    "    display(HTML(html))"
   ]
  },
  {
   "cell_type": "code",
   "execution_count": null,
   "metadata": {},
   "outputs": [],
   "source": [
    "%run -i création.py"
   ]
  }
 ],
 "metadata": {
  "kernelspec": {
   "display_name": "Python [default]",
   "language": "python",
   "name": "python3"
  },
  "language_info": {
   "codemirror_mode": {
    "name": "ipython",
    "version": 3
   },
   "file_extension": ".py",
   "mimetype": "text/x-python",
   "name": "python",
   "nbconvert_exporter": "python",
   "pygments_lexer": "ipython3",
   "version": "3.6.5"
  },
  "toc": {
   "base_numbering": 1,
   "nav_menu": {},
   "number_sections": false,
   "sideBar": true,
   "skip_h1_title": false,
   "title_cell": "Table of Contents",
   "title_sidebar": "Contents",
   "toc_cell": false,
   "toc_position": {},
   "toc_section_display": true,
   "toc_window_display": false
  },
  "varInspector": {
   "cols": {
    "lenName": 16,
    "lenType": 16,
    "lenVar": 40
   },
   "kernels_config": {
    "python": {
     "delete_cmd_postfix": "",
     "delete_cmd_prefix": "del ",
     "library": "var_list.py",
     "varRefreshCmd": "print(var_dic_list())"
    },
    "r": {
     "delete_cmd_postfix": ") ",
     "delete_cmd_prefix": "rm(",
     "library": "var_list.r",
     "varRefreshCmd": "cat(var_dic_list()) "
    }
   },
   "types_to_exclude": [
    "module",
    "function",
    "builtin_function_or_method",
    "instance",
    "_Feature"
   ],
   "window_display": false
  }
 },
 "nbformat": 4,
 "nbformat_minor": 2
}
